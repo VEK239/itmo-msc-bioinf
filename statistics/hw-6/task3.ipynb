{
 "cells": [
  {
   "cell_type": "code",
   "execution_count": 18,
   "metadata": {},
   "outputs": [],
   "source": [
    "from scipy.stats import poisson, chi2"
   ]
  },
  {
   "cell_type": "code",
   "execution_count": 15,
   "metadata": {},
   "outputs": [],
   "source": [
    "people_to_freq = {0: 60, \n",
    "                       1: 140,\n",
    "                       2: 125,\n",
    "                       '3 or more': 155}"
   ]
  },
  {
   "cell_type": "code",
   "execution_count": 9,
   "metadata": {},
   "outputs": [
    {
     "data": {
      "text/plain": [
       "2.0"
      ]
     },
     "execution_count": 9,
     "metadata": {},
     "output_type": "execute_result"
    }
   ],
   "source": [
    "sample_mean = (1 * 140 + 2 * 125 + 570) / 480\n",
    "sample_mean"
   ]
  },
  {
   "cell_type": "code",
   "execution_count": 45,
   "metadata": {},
   "outputs": [],
   "source": [
    "mu=2"
   ]
  },
  {
   "cell_type": "markdown",
   "metadata": {},
   "source": [
    "First of all we need to estimate the $\\lambda$ parameter for hypothetic Poisson distribution. It can be estimated as sample mean (via MLE), which is equal to 2 in our case.\n",
    "\n",
    "Next let's generate theoretic estimates for Poission($\\lambda$=2) distribution for 0, 1, 2, $\\geq$ 3"
   ]
  },
  {
   "cell_type": "code",
   "execution_count": 46,
   "metadata": {},
   "outputs": [
    {
     "data": {
      "text/plain": [
       "64.9609359535741"
      ]
     },
     "execution_count": 46,
     "metadata": {},
     "output_type": "execute_result"
    }
   ],
   "source": [
    "p_0 = poisson.pmf(0, mu=mu) \n",
    "freq_0 = p_0 * 480\n",
    "freq_0"
   ]
  },
  {
   "cell_type": "code",
   "execution_count": 47,
   "metadata": {},
   "outputs": [
    {
     "data": {
      "text/plain": [
       "129.9218719071482"
      ]
     },
     "execution_count": 47,
     "metadata": {},
     "output_type": "execute_result"
    }
   ],
   "source": [
    "p_1 = poisson.pmf(1, mu=mu)\n",
    "freq_1 = p_1 * 480\n",
    "freq_1"
   ]
  },
  {
   "cell_type": "code",
   "execution_count": 48,
   "metadata": {},
   "outputs": [
    {
     "data": {
      "text/plain": [
       "129.9218719071482"
      ]
     },
     "execution_count": 48,
     "metadata": {},
     "output_type": "execute_result"
    }
   ],
   "source": [
    "p_2 = poisson.pmf(2, mu=mu)\n",
    "freq_2 = p_2 * 480\n",
    "freq_2"
   ]
  },
  {
   "cell_type": "code",
   "execution_count": 49,
   "metadata": {},
   "outputs": [
    {
     "data": {
      "text/plain": [
       "155.19532023212952"
      ]
     },
     "execution_count": 49,
     "metadata": {},
     "output_type": "execute_result"
    }
   ],
   "source": [
    "p_rest = 1 - p_0 - p_1 - p_2\n",
    "freq_rest = p_rest * 480\n",
    "freq_rest"
   ]
  },
  {
   "cell_type": "code",
   "execution_count": 50,
   "metadata": {},
   "outputs": [
    {
     "data": {
      "text/plain": [
       "1.347326625773797"
      ]
     },
     "execution_count": 50,
     "metadata": {},
     "output_type": "execute_result"
    }
   ],
   "source": [
    "chi_square_val = (people_to_freq[0] - freq_0) ** 2 / freq_0 + (people_to_freq[1] - freq_1) ** 2 / freq_1 + \\\n",
    "                    (people_to_freq[2] - freq_2) ** 2 / freq_2 + (people_to_freq['3 or more'] - freq_rest) ** 2 / freq_rest\n",
    "chi_square_val"
   ]
  },
  {
   "cell_type": "markdown",
   "metadata": {},
   "source": [
    "We would use chi-square test to check whether the sample is taken not from Poisson(mu=2), taking in consideration that df = k-p-1, \n",
    "where k is the number of classes (4), p is the number of parameters we have to estimate from the sample (1, the sample mean),\n",
    "so df = 2"
   ]
  },
  {
   "cell_type": "code",
   "execution_count": 53,
   "metadata": {},
   "outputs": [
    {
     "name": "stdout",
     "output_type": "stream",
     "text": [
      "Critical area: (-infty, 0.05063561596857975) and (7.377758908227871, +infty)\n"
     ]
    }
   ],
   "source": [
    "print(f'Critical area: (-infty, {chi2.ppf(0.025, df=2)}) and ({chi2.ppf(0.975, df=2)}, +infty)')"
   ]
  },
  {
   "cell_type": "markdown",
   "metadata": {},
   "source": [
    "Looking at the results of our test we can see that the value is not in critical area, so we cannot reject the null hypothesis, which states that the sample is taken from the Poisson distribution with parameter mu=2."
   ]
  },
  {
   "cell_type": "code",
   "execution_count": null,
   "metadata": {},
   "outputs": [],
   "source": []
  }
 ],
 "metadata": {
  "kernelspec": {
   "display_name": "Python 3",
   "language": "python",
   "name": "python3"
  },
  "language_info": {
   "codemirror_mode": {
    "name": "ipython",
    "version": 3
   },
   "file_extension": ".py",
   "mimetype": "text/x-python",
   "name": "python",
   "nbconvert_exporter": "python",
   "pygments_lexer": "ipython3",
   "version": "3.7.6"
  }
 },
 "nbformat": 4,
 "nbformat_minor": 4
}
