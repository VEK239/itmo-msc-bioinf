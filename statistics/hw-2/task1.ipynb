{
 "cells": [
  {
   "cell_type": "markdown",
   "metadata": {},
   "source": [
    "### Task 1. \n",
    "Suppose that you have the following sample\n",
    "$$\n",
    "X_1=\\left(x_{11}, \\ldots, x_{1 n_1}\\right) \\ldots, X_N=\\left(x_{N 1}, \\ldots, x_{N n_N}\\right)\n",
    "$$\n",
    "In each vector $X_j, x_i$ are the indicators, weather the measurement is correct (0) or not (1). For each $X_j$, the number of incorrect measurements has a binomial distribution $\\operatorname{Bin}\\left(n_j, p\\right)$. The only available information is whether vector $X_j$ has incorrect measurement or not. In other words, we observe\n",
    "$$\n",
    "I\\left(X_i\\right)= \\begin{cases}1, & \\text { there is at least one } x_{i j}=1 \\\\ 0, & \\text { otherwise }\\end{cases}\n",
    "$$\n",
    "- In such model compute the Maximum Likelihood function for $p$ and prove that its root is unique.\n",
    "- For given $p$ compute MLE $\\widehat{p}$ using the simulation in python. Estimate density function of $\\widehat{p} / p$.\n",
    "\n",
    "### Solution\n",
    "Let's calculate the probability that I is 1: $P(I=1) = P(Bin(n, p) > 0) = 1 - P (Bin(n, p) = 0) = 1- (1-p)^n$\n",
    "\n",
    "Then tha probability $P(I=0) = P (Bin(n, p) = 0) = (1-p)^n$ \n",
    "\n",
    "To calculate MLE we need to know the probability function for I which can bee calculated in the following way: $P_{I}(x, n, p) = (1-p)^n(1-x)+(1-(1-p)^n)x=(1-p)^n+x_i-2x_i(1-p)^n=q^n+x_i-2x_iq^n$\n",
    "\n",
    "We can see that for x=1 the function returns the probability to get $I=1$, and for x=0 it returns the probability to get $I=0$\n",
    "\n",
    "In this case the likelihood function can be calculated in the following way:\n",
    "$\\mathcal{L}(I_1, I_2, ..., I_n, n_1, n_2, ..., n_n, p) =$\n",
    "$P_{I_1I_2...I_n}(I_1, I_2, ...,  I_n, n_1, n_2, ..., n_n,  p) =$\n",
    "$\\prod_{i=1}^n P_{I}(I_i, n_i, p) = \\prod_{i=1}^n (q^{n_i}-2I_iq^{n_i}+I_i)$\n",
    "\n",
    "I don't know what's next here:("
   ]
  },
  {
   "cell_type": "code",
   "execution_count": 2,
   "metadata": {},
   "outputs": [],
   "source": [
    "import math\n",
    "import random\n",
    "import matplotlib.pyplot as plt\n",
    "from scipy.stats import binom"
   ]
  },
  {
   "cell_type": "code",
   "execution_count": 3,
   "metadata": {},
   "outputs": [],
   "source": [
    "def generate_indicator(n, p):\n",
    "    sample = binom.rvs(n, p)\n",
    "    return 1 if sample > 0 else 0"
   ]
  },
  {
   "cell_type": "code",
   "execution_count": 4,
   "metadata": {},
   "outputs": [
    {
     "data": {
      "text/plain": [
       "1"
      ]
     },
     "execution_count": 4,
     "metadata": {},
     "output_type": "execute_result"
    }
   ],
   "source": [
    "generate_indicator(10, 0.2)"
   ]
  },
  {
   "cell_type": "code",
   "execution_count": 6,
   "metadata": {},
   "outputs": [
    {
     "name": "stdout",
     "output_type": "stream",
     "text": [
      "avg is 0.83\n"
     ]
    }
   ],
   "source": [
    "sample = []\n",
    "for i in range(1000):\n",
    "    n = random.randint(2, 100)\n",
    "    p_real = 0.05\n",
    "    sample.append(generate_indicator(n, p_real))\n",
    "print('avg is', sum(sample)/len(sample))"
   ]
  },
  {
   "cell_type": "code",
   "execution_count": null,
   "metadata": {},
   "outputs": [],
   "source": []
  }
 ],
 "metadata": {
  "kernelspec": {
   "display_name": "Python 3",
   "language": "python",
   "name": "python3"
  },
  "language_info": {
   "codemirror_mode": {
    "name": "ipython",
    "version": 3
   },
   "file_extension": ".py",
   "mimetype": "text/x-python",
   "name": "python",
   "nbconvert_exporter": "python",
   "pygments_lexer": "ipython3",
   "version": "3.7.6"
  }
 },
 "nbformat": 4,
 "nbformat_minor": 4
}
