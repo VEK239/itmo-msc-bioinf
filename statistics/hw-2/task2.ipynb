{
 "cells": [
  {
   "cell_type": "markdown",
   "metadata": {},
   "source": [
    "## Task 2. Assume that you are counting cells in a particular square on a Petri dish (see the picture, there are 4 cells in the highlighted square in this example).\n",
    "**(a) Write a function, that simulates a random variable \"number of cells in a particular square $[(0.3,0.5),(0.4,0.6)]$ \".**\n",
    "\n",
    "**(b) The result is Poisson distribution $\\operatorname{Poiss}(\\lambda)$. Find the MLE of $\\lambda$.**\n",
    "\n",
    "As it was calculated during the lecture the MLE for Poisson distribution is samply its average. Here are the equations which lead to it:\n",
    "\n",
    "$\\begin{gathered}\n",
    "\\ln \\mathscr{L}(y ; \\lambda)=\\sum_1^n \\ln P\\left(\\xi=y_i\\right)=\\sum_1^n \\ln \\left(\\frac{\\lambda^{y_i}}{y_{i} !} e^{-\\lambda}\\right)= \\\\\n",
    "\\left.=\\sum_1^n\\left(y_i \\ln \\lambda-\\ln y_{i} !-\\lambda\\right)\\right) \\\\\n",
    "\\ln \\mathscr{L}_\\lambda^{\\prime}(y ; \\lambda)=\\sum_1^n\\left(\\frac{1}{\\lambda} y_i-1\\right)=0 \\\\\n",
    "\\sum_1^n\\left(\\frac{1}{\\lambda} y_i-1\\right)=\\frac{1}{\\lambda} \\sum_1^n y_i-n=0 \\\\\n",
    "\\lambda=\\frac{1}{n} \\sum_1^n y_i-\\text { in this example MLE is sample mean. }\n",
    "\\end{gathered}$"
   ]
  },
  {
   "cell_type": "code",
   "execution_count": 17,
   "metadata": {},
   "outputs": [],
   "source": [
    "import math\n",
    "import random\n",
    "import matplotlib.pyplot as plt\n",
    "from scipy.stats import poisson"
   ]
  },
  {
   "cell_type": "code",
   "execution_count": 6,
   "metadata": {},
   "outputs": [],
   "source": [
    "def generate_random_point_in_circle(centre=(0.0, 0.0), radius=1.0):\n",
    "    angle = 2 * math.pi * random.random()\n",
    "    cur_radius = radius * math.sqrt(random.random())\n",
    "    x = cur_radius * math.cos(angle) + centre[0]\n",
    "    y = cur_radius * math.sin(angle) + centre[1]\n",
    "    return x, y\n",
    "\n",
    "def generate_count_of_points_in_square(from_point=(0.3, 0.5), to_point=(0.4, 0.6), n=1000):\n",
    "    sample = [generate_random_point_in_circle() for _ in range(n)]\n",
    "    sample = [x for x in sample if from_point[0] <= x[0] <= to_point[0] and from_point[1] <= x[1] <= to_point[1]]\n",
    "    return len(sample)"
   ]
  },
  {
   "cell_type": "code",
   "execution_count": 13,
   "metadata": {},
   "outputs": [],
   "source": [
    "poisson_sample = [generate_count_of_points_in_square() for _ in range(1000)]\n",
    "mle = sum(poisson_sample) / len(poisson_sample)"
   ]
  },
  {
   "cell_type": "code",
   "execution_count": 14,
   "metadata": {},
   "outputs": [],
   "source": [
    "scipy_sample = poisson.rvs(mle, size=1000)"
   ]
  },
  {
   "cell_type": "code",
   "execution_count": 16,
   "metadata": {},
   "outputs": [
    {
     "data": {
      "text/plain": [
       "<matplotlib.legend.Legend at 0x1f40bd9ce08>"
      ]
     },
     "execution_count": 16,
     "metadata": {},
     "output_type": "execute_result"
    },
    {
     "data": {
      "image/png": "[encoded data removed]",
      "text/plain": [
       "<Figure size 432x288 with 1 Axes>"
      ]
     },
     "metadata": {
      "needs_background": "light"
     },
     "output_type": "display_data"
    }
   ],
   "source": [
    "plt.hist(poisson_sample, alpha=0.5, label='generated')\n",
    "plt.hist(scipy_sample, alpha=0.5, label='scipy')\n",
    "plt.legend()"
   ]
  }
 ],
 "metadata": {
  "kernelspec": {
   "display_name": "Python 3",
   "language": "python",
   "name": "python3"
  },
  "language_info": {
   "codemirror_mode": {
    "name": "ipython",
    "version": 3
   },
   "file_extension": ".py",
   "mimetype": "text/x-python",
   "name": "python",
   "nbconvert_exporter": "python",
   "pygments_lexer": "ipython3",
   "version": "3.7.6"
  }
 },
 "nbformat": 4,
 "nbformat_minor": 4
}
