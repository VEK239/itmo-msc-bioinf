{
 "cells": [
  {
   "cell_type": "markdown",
   "metadata": {},
   "source": [
    "The company compares two keyboards and runs the following experiment: 13 and 14 people accordingly type some text of 600 words and number of errors is calculated. For the first group the following sample is obtained\n",
    "$$\n",
    "13,9,16,15,10,11,12,8,10,12,5,14,10 .\n",
    "$$\n",
    "For the second group, similarly\n",
    "$$\n",
    "15,9,18,12,14,17,20,19,16,13,14,17,10,9 .\n",
    "$$\n",
    "Calculate Mann-Whitney U-statistics based on this data. Using the normal approximation below, test the hypothesis\n",
    "$$\n",
    "U=\\max \\left(n_1 n_2+\\frac{n_1\\left(n_1+1\\right)}{2}-W_1, n_1 n_2+\\frac{n_2\\left(n_2+1\\right)}{2}-W_2\\right) .\n",
    "$$"
   ]
  },
  {
   "cell_type": "code",
   "execution_count": 53,
   "metadata": {},
   "outputs": [],
   "source": [
    "from scipy.stats import norm, mannwhitneyu\n",
    "from collections import Counter\n",
    "import pandas as pd\n",
    "from math import sqrt"
   ]
  },
  {
   "cell_type": "code",
   "execution_count": 2,
   "metadata": {},
   "outputs": [],
   "source": [
    "sample1 = [13,9,16,15,10,11,12,8,10,12,5,14,10]\n",
    "sample2 = [15,9,18,12,14,17,20,19,16,13,14,17,10,9]"
   ]
  },
  {
   "cell_type": "code",
   "execution_count": 60,
   "metadata": {},
   "outputs": [
    {
     "name": "stdout",
     "output_type": "stream",
     "text": [
      "13 14\n"
     ]
    }
   ],
   "source": [
    "n1 = len(sample1)\n",
    "n2 = len(sample2)\n",
    "print(n1, n2)"
   ]
  },
  {
   "cell_type": "markdown",
   "metadata": {},
   "source": [
    "## Method 1. Using scipy"
   ]
  },
  {
   "cell_type": "code",
   "execution_count": 27,
   "metadata": {},
   "outputs": [
    {
     "data": {
      "text/plain": [
       "MannwhitneyuResult(statistic=45.0, pvalue=0.013319940105280696)"
      ]
     },
     "execution_count": 27,
     "metadata": {},
     "output_type": "execute_result"
    }
   ],
   "source": [
    "mannwhitneyu(sample1, sample2)"
   ]
  },
  {
   "cell_type": "markdown",
   "metadata": {},
   "source": [
    "## Method 2. Using direct method of U calculation"
   ]
  },
  {
   "cell_type": "code",
   "execution_count": 31,
   "metadata": {},
   "outputs": [
    {
     "data": {
      "text/plain": [
       "45.0"
      ]
     },
     "execution_count": 31,
     "metadata": {},
     "output_type": "execute_result"
    }
   ],
   "source": [
    "def calculate_mannwhitney_statistics(sample1, sample2):\n",
    "    U = 0\n",
    "    for i in sample1:\n",
    "        for j in sample2:\n",
    "            if i > j:\n",
    "                U += 1\n",
    "            elif i == j:\n",
    "                U += 0.5\n",
    "    return U\n",
    "\n",
    "calculate_mannwhitney_statistics(sample1, sample2)"
   ]
  },
  {
   "cell_type": "code",
   "execution_count": 36,
   "metadata": {},
   "outputs": [],
   "source": [
    "U_norm = (U-0.5*n1*n2)/sqrt(1/12*n1*n2*(n1+n2+1))"
   ]
  },
  {
   "cell_type": "code",
   "execution_count": 37,
   "metadata": {
    "scrolled": true
   },
   "outputs": [
    {
     "data": {
      "text/plain": [
       "-2.23220329588506"
      ]
     },
     "execution_count": 37,
     "metadata": {},
     "output_type": "execute_result"
    }
   ],
   "source": [
    "U_norm"
   ]
  },
  {
   "cell_type": "code",
   "execution_count": 43,
   "metadata": {
    "scrolled": true
   },
   "outputs": [
    {
     "data": {
      "text/plain": [
       "0.012800764846356815"
      ]
     },
     "execution_count": 43,
     "metadata": {},
     "output_type": "execute_result"
    }
   ],
   "source": [
    "norm.cdf(U_norm)"
   ]
  },
  {
   "cell_type": "code",
   "execution_count": 41,
   "metadata": {},
   "outputs": [
    {
     "name": "stdout",
     "output_type": "stream",
     "text": [
      "Critical area is (-inf, -1.9599639845400545)and(1.959963984540054, +inf)\n"
     ]
    }
   ],
   "source": [
    "alpha = 0.05\n",
    "left = norm.ppf(alpha / 2, loc=0, scale=1)\n",
    "right = norm.ppf(1 - alpha / 2, loc=0, scale=1)\n",
    "print(f'Critical area is (-inf, {left})and({right}, +inf)')"
   ]
  },
  {
   "cell_type": "markdown",
   "metadata": {},
   "source": [
    "## Method 3. Using undirect method of U calculation"
   ]
  },
  {
   "cell_type": "code",
   "execution_count": 44,
   "metadata": {},
   "outputs": [],
   "source": [
    "sample = sample1+sample2\n",
    "sample.sort()\n",
    "sample = pd.Series(sample)"
   ]
  },
  {
   "cell_type": "code",
   "execution_count": 45,
   "metadata": {},
   "outputs": [],
   "source": [
    "value_to_count = Counter(sample)"
   ]
  },
  {
   "cell_type": "code",
   "execution_count": 70,
   "metadata": {},
   "outputs": [],
   "source": [
    "ranks = {}\n",
    "sum_ranks = 1\n",
    "for var in sample.unique():\n",
    "    count = value_to_count[var]\n",
    "    ranks_for_current_num = [sum_ranks + i for i in range(count)]\n",
    "    ranks[var] = sum(ranks_for_current_num) / count\n",
    "    sum_ranks += count"
   ]
  },
  {
   "cell_type": "code",
   "execution_count": 74,
   "metadata": {},
   "outputs": [],
   "source": [
    "ranks1 = [ranks[x] for x in sample1]\n",
    "ranks2 = [ranks[x] for x in sample2]"
   ]
  },
  {
   "cell_type": "code",
   "execution_count": 77,
   "metadata": {},
   "outputs": [],
   "source": [
    "W1 = sum(ranks1)\n",
    "W2 = sum(ranks2)"
   ]
  },
  {
   "cell_type": "code",
   "execution_count": 80,
   "metadata": {},
   "outputs": [],
   "source": [
    "U = min([n1*n2 + n1*(n1+1) / 2 - W1, n1*n2 + n2*(n2+1) / 2 - W2])"
   ]
  },
  {
   "cell_type": "code",
   "execution_count": 81,
   "metadata": {},
   "outputs": [
    {
     "data": {
      "text/plain": [
       "45.0"
      ]
     },
     "execution_count": 81,
     "metadata": {},
     "output_type": "execute_result"
    }
   ],
   "source": [
    "U"
   ]
  },
  {
   "cell_type": "markdown",
   "metadata": {},
   "source": [
    "So here you can see that using both ways I managed to get the same value using all the three methods, so we can definetely say that getting such statisticd of criteria and using the normal approximation **we can reject the null hypothesis**. "
   ]
  },
  {
   "cell_type": "code",
   "execution_count": null,
   "metadata": {},
   "outputs": [],
   "source": []
  }
 ],
 "metadata": {
  "kernelspec": {
   "display_name": "Python 3",
   "language": "python",
   "name": "python3"
  },
  "language_info": {
   "codemirror_mode": {
    "name": "ipython",
    "version": 3
   },
   "file_extension": ".py",
   "mimetype": "text/x-python",
   "name": "python",
   "nbconvert_exporter": "python",
   "pygments_lexer": "ipython3",
   "version": "3.7.6"
  }
 },
 "nbformat": 4,
 "nbformat_minor": 4
}
