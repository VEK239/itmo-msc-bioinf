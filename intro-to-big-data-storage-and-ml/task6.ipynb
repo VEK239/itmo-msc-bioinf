{
 "cells": [
  {
   "cell_type": "code",
   "execution_count": 13,
   "metadata": {},
   "outputs": [],
   "source": [
    "import pandas as pd"
   ]
  },
  {
   "cell_type": "code",
   "execution_count": 14,
   "metadata": {},
   "outputs": [
    {
     "data": {
      "text/html": [
       "<div>\n",
       "<style scoped>\n",
       "    .dataframe tbody tr th:only-of-type {\n",
       "        vertical-align: middle;\n",
       "    }\n",
       "\n",
       "    .dataframe tbody tr th {\n",
       "        vertical-align: top;\n",
       "    }\n",
       "\n",
       "    .dataframe thead th {\n",
       "        text-align: right;\n",
       "    }\n",
       "</style>\n",
       "<table border=\"1\" class=\"dataframe\">\n",
       "  <thead>\n",
       "    <tr style=\"text-align: right;\">\n",
       "      <th></th>\n",
       "      <th>Region_RU</th>\n",
       "      <th>Region_EN</th>\n",
       "      <th>AVG_Salary</th>\n",
       "      <th>Population</th>\n",
       "    </tr>\n",
       "  </thead>\n",
       "  <tbody>\n",
       "    <tr>\n",
       "      <th>0</th>\n",
       "      <td>Алтайский край</td>\n",
       "      <td>Altai Region</td>\n",
       "      <td>25960</td>\n",
       "      <td>218866</td>\n",
       "    </tr>\n",
       "    <tr>\n",
       "      <th>1</th>\n",
       "      <td>Амурская область</td>\n",
       "      <td>Amur Region</td>\n",
       "      <td>43156</td>\n",
       "      <td>793194</td>\n",
       "    </tr>\n",
       "    <tr>\n",
       "      <th>2</th>\n",
       "      <td>Архангельская область</td>\n",
       "      <td>Arkhangelsk Region</td>\n",
       "      <td>47526</td>\n",
       "      <td>1144119</td>\n",
       "    </tr>\n",
       "    <tr>\n",
       "      <th>3</th>\n",
       "      <td>Астраханская область</td>\n",
       "      <td>Astrakhan Region</td>\n",
       "      <td>32166</td>\n",
       "      <td>1014065</td>\n",
       "    </tr>\n",
       "    <tr>\n",
       "      <th>4</th>\n",
       "      <td>Белгородская область</td>\n",
       "      <td>Belgorod Region</td>\n",
       "      <td>31163</td>\n",
       "      <td>1547418</td>\n",
       "    </tr>\n",
       "    <tr>\n",
       "      <th>...</th>\n",
       "      <td>...</td>\n",
       "      <td>...</td>\n",
       "      <td>...</td>\n",
       "      <td>...</td>\n",
       "    </tr>\n",
       "    <tr>\n",
       "      <th>80</th>\n",
       "      <td>Чеченская Республика</td>\n",
       "      <td>Republic of Chechnya</td>\n",
       "      <td>26108</td>\n",
       "      <td>1456951</td>\n",
       "    </tr>\n",
       "    <tr>\n",
       "      <th>81</th>\n",
       "      <td>Чувашская Республика</td>\n",
       "      <td>Chuvash Republic</td>\n",
       "      <td>27028</td>\n",
       "      <td>1223395</td>\n",
       "    </tr>\n",
       "    <tr>\n",
       "      <th>82</th>\n",
       "      <td>Чукотский АО</td>\n",
       "      <td>Chukotka AO</td>\n",
       "      <td>96930</td>\n",
       "      <td>49663</td>\n",
       "    </tr>\n",
       "    <tr>\n",
       "      <th>83</th>\n",
       "      <td>Ямало-Ненецкий АО</td>\n",
       "      <td>Yamalo-Nenets Autonomous district</td>\n",
       "      <td>86560</td>\n",
       "      <td>541479</td>\n",
       "    </tr>\n",
       "    <tr>\n",
       "      <th>84</th>\n",
       "      <td>Ярославская область</td>\n",
       "      <td>Yaroslavl Region</td>\n",
       "      <td>33882</td>\n",
       "      <td>1259612</td>\n",
       "    </tr>\n",
       "  </tbody>\n",
       "</table>\n",
       "<p>85 rows × 4 columns</p>\n",
       "</div>"
      ],
      "text/plain": [
       "                Region_RU                          Region_EN  AVG_Salary  \\\n",
       "0          Алтайский край                       Altai Region       25960   \n",
       "1        Амурская область                        Amur Region       43156   \n",
       "2   Архангельская область                 Arkhangelsk Region       47526   \n",
       "3    Астраханская область                   Astrakhan Region       32166   \n",
       "4    Белгородская область                    Belgorod Region       31163   \n",
       "..                    ...                                ...         ...   \n",
       "80   Чеченская Республика               Republic of Chechnya       26108   \n",
       "81   Чувашская Республика                   Chuvash Republic       27028   \n",
       "82           Чукотский АО                        Chukotka AO       96930   \n",
       "83      Ямало-Ненецкий АО  Yamalo-Nenets Autonomous district       86560   \n",
       "84    Ярославская область                   Yaroslavl Region       33882   \n",
       "\n",
       "    Population  \n",
       "0       218866  \n",
       "1       793194  \n",
       "2      1144119  \n",
       "3      1014065  \n",
       "4      1547418  \n",
       "..         ...  \n",
       "80     1456951  \n",
       "81     1223395  \n",
       "82       49663  \n",
       "83      541479  \n",
       "84     1259612  \n",
       "\n",
       "[85 rows x 4 columns]"
      ]
     },
     "execution_count": 14,
     "metadata": {},
     "output_type": "execute_result"
    }
   ],
   "source": [
    "df = pd.read_csv('salary_and_population.csv').drop(columns=['Unnamed: 4'])\n",
    "df"
   ]
  },
  {
   "cell_type": "code",
   "execution_count": 15,
   "metadata": {},
   "outputs": [],
   "source": [
    "# df = df[df.Region_EN.apply(lambda x: x not in ['Vologda Region', 'Murmansk Region'])]\n",
    "df = df[df.Region_EN.apply(lambda x: x not in ['Novgorod Region', 'Republic of Dagestan', \n",
    "                                       'Kabardino-Balkar Republic', 'Stavropol Region'])]"
   ]
  },
  {
   "cell_type": "code",
   "execution_count": 16,
   "metadata": {},
   "outputs": [
    {
     "data": {
      "text/html": [
       "<div>\n",
       "<style scoped>\n",
       "    .dataframe tbody tr th:only-of-type {\n",
       "        vertical-align: middle;\n",
       "    }\n",
       "\n",
       "    .dataframe tbody tr th {\n",
       "        vertical-align: top;\n",
       "    }\n",
       "\n",
       "    .dataframe thead th {\n",
       "        text-align: right;\n",
       "    }\n",
       "</style>\n",
       "<table border=\"1\" class=\"dataframe\">\n",
       "  <thead>\n",
       "    <tr style=\"text-align: right;\">\n",
       "      <th></th>\n",
       "      <th>AVG_Salary</th>\n",
       "      <th>Population</th>\n",
       "    </tr>\n",
       "  </thead>\n",
       "  <tbody>\n",
       "    <tr>\n",
       "      <th>count</th>\n",
       "      <td>81.000000</td>\n",
       "      <td>8.100000e+01</td>\n",
       "    </tr>\n",
       "    <tr>\n",
       "      <th>mean</th>\n",
       "      <td>39404.432099</td>\n",
       "      <td>1.720843e+06</td>\n",
       "    </tr>\n",
       "    <tr>\n",
       "      <th>std</th>\n",
       "      <td>16646.433699</td>\n",
       "      <td>1.851156e+06</td>\n",
       "    </tr>\n",
       "    <tr>\n",
       "      <th>min</th>\n",
       "      <td>25663.000000</td>\n",
       "      <td>4.382900e+04</td>\n",
       "    </tr>\n",
       "    <tr>\n",
       "      <th>25%</th>\n",
       "      <td>28400.000000</td>\n",
       "      <td>6.992530e+05</td>\n",
       "    </tr>\n",
       "    <tr>\n",
       "      <th>50%</th>\n",
       "      <td>33137.000000</td>\n",
       "      <td>1.144119e+06</td>\n",
       "    </tr>\n",
       "    <tr>\n",
       "      <th>75%</th>\n",
       "      <td>42026.000000</td>\n",
       "      <td>1.963007e+06</td>\n",
       "    </tr>\n",
       "    <tr>\n",
       "      <th>max</th>\n",
       "      <td>101662.000000</td>\n",
       "      <td>1.261528e+07</td>\n",
       "    </tr>\n",
       "  </tbody>\n",
       "</table>\n",
       "</div>"
      ],
      "text/plain": [
       "          AVG_Salary    Population\n",
       "count      81.000000  8.100000e+01\n",
       "mean    39404.432099  1.720843e+06\n",
       "std     16646.433699  1.851156e+06\n",
       "min     25663.000000  4.382900e+04\n",
       "25%     28400.000000  6.992530e+05\n",
       "50%     33137.000000  1.144119e+06\n",
       "75%     42026.000000  1.963007e+06\n",
       "max    101662.000000  1.261528e+07"
      ]
     },
     "execution_count": 16,
     "metadata": {},
     "output_type": "execute_result"
    }
   ],
   "source": [
    "df.describe()"
   ]
  },
  {
   "cell_type": "code",
   "execution_count": 17,
   "metadata": {},
   "outputs": [
    {
     "data": {
      "text/plain": [
       "33137.0"
      ]
     },
     "execution_count": 17,
     "metadata": {},
     "output_type": "execute_result"
    }
   ],
   "source": [
    "df.AVG_Salary.median()"
   ]
  },
  {
   "cell_type": "code",
   "execution_count": 18,
   "metadata": {},
   "outputs": [
    {
     "data": {
      "text/plain": [
       "273682720.8873647"
      ]
     },
     "execution_count": 18,
     "metadata": {},
     "output_type": "execute_result"
    }
   ],
   "source": [
    "df.AVG_Salary.var(ddof=0)"
   ]
  },
  {
   "cell_type": "code",
   "execution_count": 19,
   "metadata": {},
   "outputs": [
    {
     "data": {
      "text/plain": [
       "16543.35881516703"
      ]
     },
     "execution_count": 19,
     "metadata": {},
     "output_type": "execute_result"
    }
   ],
   "source": [
    "import math\n",
    "math.sqrt(df.AVG_Salary.var(ddof=0))"
   ]
  },
  {
   "cell_type": "code",
   "execution_count": null,
   "metadata": {},
   "outputs": [],
   "source": []
  }
 ],
 "metadata": {
  "kernelspec": {
   "display_name": "Python 3",
   "language": "python",
   "name": "python3"
  },
  "language_info": {
   "codemirror_mode": {
    "name": "ipython",
    "version": 3
   },
   "file_extension": ".py",
   "mimetype": "text/x-python",
   "name": "python",
   "nbconvert_exporter": "python",
   "pygments_lexer": "ipython3",
   "version": "3.7.6"
  }
 },
 "nbformat": 4,
 "nbformat_minor": 4
}
